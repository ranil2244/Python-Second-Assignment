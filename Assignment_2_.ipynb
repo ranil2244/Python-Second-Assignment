{
  "nbformat": 4,
  "nbformat_minor": 0,
  "metadata": {
    "colab": {
      "provenance": []
    },
    "kernelspec": {
      "name": "python3",
      "display_name": "Python 3"
    },
    "language_info": {
      "name": "python"
    }
  },
  "cells": [
    {
      "cell_type": "markdown",
      "source": [
        "# ***Topic:List***"
      ],
      "metadata": {
        "id": "2-xJJ6Go0Uij"
      }
    },
    {
      "cell_type": "markdown",
      "source": [
        "Q1. Create a list of 5 random numbers and print the list"
      ],
      "metadata": {
        "id": "LPdCx4Fh0gu9"
      }
    },
    {
      "cell_type": "code",
      "source": [
        "Number = [24,45,56,78,56]\n",
        "print(Number)"
      ],
      "metadata": {
        "colab": {
          "base_uri": "https://localhost:8080/"
        },
        "id": "PiUsOsDR0a9e",
        "outputId": "27e14cb9-97d0-44ed-c566-a55fc239bd22"
      },
      "execution_count": null,
      "outputs": [
        {
          "output_type": "stream",
          "name": "stdout",
          "text": [
            "[24, 45, 56, 78, 56]\n"
          ]
        }
      ]
    },
    {
      "cell_type": "markdown",
      "source": [
        "Q2. Insert 3 new values to the list and print the updated list."
      ],
      "metadata": {
        "id": "8Fdx7pFg1Ax5"
      }
    },
    {
      "cell_type": "code",
      "source": [
        "Number.append(48)\n",
        "Number.insert(0,59)\n",
        "Number.append(60)\n",
        "\n",
        "print(\"Updated list:\", Number)\n",
        "\n"
      ],
      "metadata": {
        "colab": {
          "base_uri": "https://localhost:8080/"
        },
        "id": "jC-DNG3G1xEf",
        "outputId": "494af42a-c934-472f-e3e5-06bd18136f36"
      },
      "execution_count": null,
      "outputs": [
        {
          "output_type": "stream",
          "name": "stdout",
          "text": [
            "Updated list: [59, 24, 45, 56, 78, 56, 4, 5, 6, 48, 59, 60, 48, 59, 48, 59, 48, 59, 60, 1, 2, 3, 4, 5, 48, 60]\n"
          ]
        }
      ]
    },
    {
      "cell_type": "code",
      "source": [
        "Number= Number+[1,2,3,4,5]\n",
        "print(Number)"
      ],
      "metadata": {
        "colab": {
          "base_uri": "https://localhost:8080/"
        },
        "id": "3_45yqLl2I4Y",
        "outputId": "809b139b-77b6-4545-85d5-d70b6fb67629"
      },
      "execution_count": null,
      "outputs": [
        {
          "output_type": "stream",
          "name": "stdout",
          "text": [
            "[24, 45, 56, 78, 56, 4, 5, 6, 48, 59, 60, 48, 59, 48, 59, 48, 59, 60, 1, 2, 3, 4, 5]\n"
          ]
        }
      ]
    },
    {
      "cell_type": "markdown",
      "source": [
        " Q3.Try to use a for loop to print each element in the list"
      ],
      "metadata": {
        "id": "7nkZIAtn86YP"
      }
    },
    {
      "cell_type": "code",
      "source": [
        "for element in Number:\n",
        "    print(element)"
      ],
      "metadata": {
        "colab": {
          "base_uri": "https://localhost:8080/"
        },
        "id": "S_2JcA7j6umg",
        "outputId": "4558bb04-7af9-4189-b0e7-715e26cd3caf"
      },
      "execution_count": null,
      "outputs": [
        {
          "output_type": "stream",
          "name": "stdout",
          "text": [
            "59\n",
            "24\n",
            "45\n",
            "56\n",
            "78\n",
            "56\n",
            "4\n",
            "5\n",
            "6\n",
            "48\n",
            "59\n",
            "60\n",
            "48\n",
            "59\n",
            "48\n",
            "59\n",
            "48\n",
            "59\n",
            "60\n",
            "1\n",
            "2\n",
            "3\n",
            "4\n",
            "5\n",
            "48\n",
            "60\n"
          ]
        }
      ]
    },
    {
      "cell_type": "markdown",
      "source": [
        "# ***Topic:Dictionary***"
      ],
      "metadata": {
        "id": "Rv1-6V6Y9azu"
      }
    },
    {
      "cell_type": "markdown",
      "source": [
        "Q1. Create a dictionary with keys 'name', 'age', and 'address' and values 'John', 25, and 'New York' respectively."
      ],
      "metadata": {
        "id": "nIZrIGSJ_fuq"
      }
    },
    {
      "cell_type": "code",
      "source": [
        "Student = {\"name\": \"John\",\n",
        "    \"age\": 25,\n",
        "    \"address\": \"New York\"}\n",
        "\n",
        "print(Student)"
      ],
      "metadata": {
        "colab": {
          "base_uri": "https://localhost:8080/"
        },
        "id": "sRLsDJqf9Ndu",
        "outputId": "728d1ddc-d2e9-47fd-f66d-e5aeeb96f2dd"
      },
      "execution_count": null,
      "outputs": [
        {
          "output_type": "stream",
          "name": "stdout",
          "text": [
            "{'name': 'John', 'age': 25, 'address': 'New York'}\n"
          ]
        }
      ]
    },
    {
      "cell_type": "markdown",
      "source": [
        "Q2. Add a new key-value pair to the dictionary created in Q1 with key 'phone' and value '1234567890'."
      ],
      "metadata": {
        "id": "HHMZfiFaogm_"
      }
    },
    {
      "cell_type": "code",
      "source": [
        "Student['phone']='1234567890'\n",
        "print(\"Updated dictionary:\", Student)"
      ],
      "metadata": {
        "id": "pOD40GrPAYYZ",
        "colab": {
          "base_uri": "https://localhost:8080/"
        },
        "outputId": "6f1b478f-ca3c-4cdb-b7d0-23f27786a87b"
      },
      "execution_count": null,
      "outputs": [
        {
          "output_type": "stream",
          "name": "stdout",
          "text": [
            "Updated dictionary: {'name': 'John', 'age': 25, 'address': 'New York', 'phone': '1234567890'}\n"
          ]
        }
      ]
    },
    {
      "cell_type": "markdown",
      "source": [
        "# ***Topic:Set***"
      ],
      "metadata": {
        "id": "jerDm21vs1YP"
      }
    },
    {
      "cell_type": "markdown",
      "source": [
        "Q1.Create a set with values 1, 2, 3, 4, and 5"
      ],
      "metadata": {
        "id": "EBg-td2QtEoX"
      }
    },
    {
      "cell_type": "code",
      "source": [
        "Items_number = {1,2,3,4,5}\n",
        "print(Items_number)"
      ],
      "metadata": {
        "colab": {
          "base_uri": "https://localhost:8080/"
        },
        "id": "mgNkFGeBrqY5",
        "outputId": "6cf4eb1c-4182-4ec8-f55a-dc52c7094fb5"
      },
      "execution_count": null,
      "outputs": [
        {
          "output_type": "stream",
          "name": "stdout",
          "text": [
            "{1, 2, 3, 4, 5}\n"
          ]
        }
      ]
    },
    {
      "cell_type": "markdown",
      "source": [
        "Q2. Add the value 6 to the set created in Q1"
      ],
      "metadata": {
        "id": "gYiXP7HBuxMu"
      }
    },
    {
      "cell_type": "code",
      "source": [
        "Items_number = {1,2,3,4,5}\n",
        "Items_number.add(6)\n",
        "print(Items_number)"
      ],
      "metadata": {
        "colab": {
          "base_uri": "https://localhost:8080/"
        },
        "id": "rzJr-DL5uS8L",
        "outputId": "cb49a4e5-9a54-4d09-82a3-06d378bcf1e7"
      },
      "execution_count": null,
      "outputs": [
        {
          "output_type": "stream",
          "name": "stdout",
          "text": [
            "{1, 2, 3, 4, 5, 6}\n"
          ]
        }
      ]
    },
    {
      "cell_type": "markdown",
      "source": [
        "Q3. Remove the value 3 from the set created in Q1"
      ],
      "metadata": {
        "id": "HZMjFylEvc-b"
      }
    },
    {
      "cell_type": "code",
      "source": [
        "Items_number = {1,2,3,4,5}\n",
        "Items_number.remove(3)\n",
        "print(Items_number)"
      ],
      "metadata": {
        "colab": {
          "base_uri": "https://localhost:8080/"
        },
        "id": "-RIZ01HuvD_Z",
        "outputId": "d4071db5-9967-44a8-8001-862636198b08"
      },
      "execution_count": null,
      "outputs": [
        {
          "output_type": "stream",
          "name": "stdout",
          "text": [
            "{1, 2, 4, 5}\n"
          ]
        }
      ]
    },
    {
      "cell_type": "markdown",
      "source": [
        "# ***Topic:Tuple***"
      ],
      "metadata": {
        "id": "oB6ULKymvuyP"
      }
    },
    {
      "cell_type": "markdown",
      "source": [
        "Q1. Create a tuple with values 1, 2, 3, and 4"
      ],
      "metadata": {
        "id": "dMTNYjCiwjc-"
      }
    },
    {
      "cell_type": "code",
      "source": [
        "Roll_Number = (1, 2, 3, 4)\n",
        "print(Roll_Number)"
      ],
      "metadata": {
        "colab": {
          "base_uri": "https://localhost:8080/"
        },
        "id": "oc0neUH9vqEn",
        "outputId": "841c098e-feeb-425d-9460-85c9a254e97d"
      },
      "execution_count": null,
      "outputs": [
        {
          "output_type": "stream",
          "name": "stdout",
          "text": [
            "(1, 2, 3, 4)\n"
          ]
        }
      ]
    },
    {
      "cell_type": "markdown",
      "source": [
        "Q2. Print the length of the tuple created in Q1"
      ],
      "metadata": {
        "id": "CYx6iKiGww9d"
      }
    },
    {
      "cell_type": "code",
      "source": [
        "Roll_Number = (1, 2, 3, 4)\n",
        "print(len(Roll_Number))"
      ],
      "metadata": {
        "colab": {
          "base_uri": "https://localhost:8080/"
        },
        "id": "10uUfkTBwWcf",
        "outputId": "9c102c40-e131-4467-a584-f05a066ce82a"
      },
      "execution_count": null,
      "outputs": [
        {
          "output_type": "stream",
          "name": "stdout",
          "text": [
            "4\n"
          ]
        }
      ]
    },
    {
      "cell_type": "code",
      "source": [],
      "metadata": {
        "id": "ese7Hj0zw91L"
      },
      "execution_count": null,
      "outputs": []
    }
  ]
}